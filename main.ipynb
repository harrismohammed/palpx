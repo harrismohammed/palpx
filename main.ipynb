{
 "cells": [
  {
   "cell_type": "code",
   "execution_count": 1,
   "metadata": {},
   "outputs": [],
   "source": [
    "## Import all the necessary Libraries required to run this program\n",
    "import warnings\n",
    "warnings.filterwarnings(\"ignore\")\n",
    "\n",
    "import requests\n",
    "from bs4 import BeautifulSoup\n",
    "import re\n",
    "\n",
    "from nltk import tokenize\n",
    "\n",
    "from fuzzywuzzy import fuzz\n",
    "\n",
    "from tqdm import tqdm_notebook as tqdm\n",
    "\n",
    "import operator\n",
    "\n",
    "import spacy\n",
    "from spacy import displacy"
   ]
  },
  {
   "cell_type": "code",
   "execution_count": 2,
   "metadata": {},
   "outputs": [
    {
     "name": "stdout",
     "output_type": "stream",
     "text": [
      "Enter from where you need to Extract the Article! : https://en.wikipedia.org/wiki/R2-D2\n"
     ]
    }
   ],
   "source": [
    "## The link for the Wikipedia page I webscraped - https://en.wikipedia.org/wiki/R2-D2 \n",
    "## page_url = \"https://en.wikipedia.org/wiki/R2-D2\"\n",
    "\n",
    "page_url = input(\"Enter from where you need to Extract the Article! : \")"
   ]
  },
  {
   "cell_type": "code",
   "execution_count": 3,
   "metadata": {},
   "outputs": [
    {
     "name": "stdout",
     "output_type": "stream",
     "text": [
      "200\n"
     ]
    }
   ],
   "source": [
    "## The HTTP 200 OK success status response code indicates that the request has succeeded.\n",
    "\n",
    "page = requests.get(page_url)\n",
    "print(page.status_code)\n"
   ]
  },
  {
   "cell_type": "code",
   "execution_count": 4,
   "metadata": {},
   "outputs": [],
   "source": [
    "## Let us extract all the Text Data - to understand better Refer README file\n",
    "soup = BeautifulSoup(page.text)\n",
    "text_file = soup.find_all('p')"
   ]
  },
  {
   "cell_type": "code",
   "execution_count": 5,
   "metadata": {
    "scrolled": false
   },
   "outputs": [
    {
     "data": {
      "text/plain": [
       "[<p class=\"mw-empty-elt\">\n",
       " </p>,\n",
       " <p><b>R2-D2</b> (<span class=\"nowrap\"><span class=\"IPA nopopups noexcerpt\"><a href=\"/wiki/Help:IPA/English\" title=\"Help:IPA/English\">/<span style=\"border-bottom:1px dotted\"><span title=\"/ˌ/: secondary stress follows\">ˌ</span><span title=\"/ɑːr/: 'ar' in 'far'\">ɑːr</span><span title=\"'t' in 'tie'\">t</span><span title=\"/uː/: 'oo' in 'goose'\">uː</span><span title=\"/ˈ/: primary stress follows\">ˈ</span><span title=\"'d' in 'dye'\">d</span><span title=\"/iː/: 'ee' in 'fleece'\">iː</span><span title=\"'t' in 'tie'\">t</span><span title=\"/uː/: 'oo' in 'goose'\">uː</span></span>/</a></span></span>), or <b>Artoo-Detoo</b>,<sup class=\"reference\" id=\"cite_ref-1\"><a href=\"#cite_note-1\">[1]</a></sup> is a fictional robot character in the <a href=\"/wiki/Star_Wars\" title=\"Star Wars\"><i>Star Wars</i> franchise</a> created by <a href=\"/wiki/George_Lucas\" title=\"George Lucas\">George Lucas</a>. A small <a class=\"mw-redirect\" href=\"/wiki/Astromech_droid\" title=\"Astromech droid\">astromech droid</a>, R2-D2 is a major character and appears in nine out of the ten <i>Star Wars</i> films to date. Throughout the course of the films, R2 is a friend to <a href=\"/wiki/C-3PO\" title=\"C-3PO\">C-3PO</a>, <a href=\"/wiki/Padm%C3%A9_Amidala\" title=\"Padmé Amidala\">Padmé Amidala</a>, <a href=\"/wiki/Darth_Vader\" title=\"Darth Vader\">Anakin Skywalker</a>, <a href=\"/wiki/Princess_Leia\" title=\"Princess Leia\">Leia Organa</a>, <a href=\"/wiki/Luke_Skywalker\" title=\"Luke Skywalker\">Luke Skywalker</a>, and <a href=\"/wiki/Obi-Wan_Kenobi\" title=\"Obi-Wan Kenobi\">Obi-Wan Kenobi</a> in various points in the saga.\n",
       " </p>,\n",
       " <p>English actor <a href=\"/wiki/Kenny_Baker_(English_actor)\" title=\"Kenny Baker (English actor)\">Kenny Baker</a> played R2-D2 in all three original <i>Star Wars</i> films, and received <a class=\"mw-redirect\" href=\"/wiki/Billing_(filmmaking)\" title=\"Billing (filmmaking)\">billing credit</a> for the character in the <a href=\"/wiki/Star_Wars_prequel_trilogy\" title=\"Star Wars prequel trilogy\">prequel trilogy</a>, where Baker's role was reduced, as R2-D2 was portrayed mainly by <a href=\"/wiki/Radio-controlled_model\" title=\"Radio-controlled model\">radio controlled props</a> and <a href=\"/wiki/Computer-generated_imagery\" title=\"Computer-generated imagery\">CGI</a> models. In the <a href=\"/wiki/Star_Wars_sequel_trilogy\" title=\"Star Wars sequel trilogy\">sequel trilogy</a>, Baker was credited as consultant for <i><a class=\"mw-redirect\" href=\"/wiki/The_Force_Awakens\" title=\"The Force Awakens\">The Force Awakens</a></i>; however, <a href=\"/wiki/Jimmy_Vee\" title=\"Jimmy Vee\">Jimmy Vee</a> also co-performed the character in some scenes. Vee later took over the role beginning in <i><a href=\"/wiki/Star_Wars:_The_Last_Jedi\" title=\"Star Wars: The Last Jedi\">The Last Jedi</a></i>.<sup class=\"reference\" id=\"cite_ref-2\"><a href=\"#cite_note-2\">[2]</a></sup> R2-D2's sounds and vocal effects were created by <a href=\"/wiki/Ben_Burtt\" title=\"Ben Burtt\">Ben Burtt</a>. R2-D2 was designed in artwork by <a href=\"/wiki/Ralph_McQuarrie\" title=\"Ralph McQuarrie\">Ralph McQuarrie</a>, co-developed by <a href=\"/wiki/John_Stears\" title=\"John Stears\">John Stears</a> and built by <a href=\"/wiki/Tony_Dyson\" title=\"Tony Dyson\">Tony Dyson</a>.\n",
       " </p>]"
      ]
     },
     "execution_count": 5,
     "metadata": {},
     "output_type": "execute_result"
    }
   ],
   "source": [
    "## Print an example to understand what we have got\n",
    "text_file[0:3]"
   ]
  },
  {
   "cell_type": "code",
   "execution_count": 6,
   "metadata": {},
   "outputs": [],
   "source": [
    "## Let us remove all the HTML Tags to obtain a much Clearer Text\n",
    "def striphtml(data):\n",
    "    cleanr = re.compile('<.*?>')\n",
    "    cleantext = re.sub(cleanr, '', str(data))\n",
    "    cleanr = re.compile(', ')\n",
    "    cleantext = re.sub(cleanr, ',', str(cleantext))\n",
    "    cleanr = re.compile('\\'')\n",
    "    cleantext = re.sub(cleanr, '', str(cleantext))\n",
    "    cleanr = re.compile('\\n,')\n",
    "    cleantext = re.sub(cleanr, ' ', str(cleantext))\n",
    "    \n",
    "    return cleantext"
   ]
  },
  {
   "cell_type": "code",
   "execution_count": 7,
   "metadata": {},
   "outputs": [],
   "source": [
    "data = striphtml(text_file)"
   ]
  },
  {
   "cell_type": "code",
   "execution_count": 8,
   "metadata": {
    "scrolled": false
   },
   "outputs": [
    {
     "name": "stdout",
     "output_type": "stream",
     "text": [
      "[ R2-D2 (/ˌɑːrtuːˈdiːtuː/),or Artoo-Detoo,[1] is a fictional robot character in the Star Wars franchise created by George Lucas. A small astromech droid,R2-D2 is a major character and appears in nine out of the ten Star Wars films to date. Throughout the course of the films,R2 is a friend to C-3PO,Padmé Amidala,Anakin Skywalker,Leia Organa,Luke Skywalker,and Obi-Wan Kenobi in various points in the saga. English actor Kenny Baker played R2-D2 in all three original Star Wars films,and received billing credit for the character in the prequel trilogy,where Bakers role was reduced,as R2-D2 was portrayed mainly by radio controlled props and CGI models. In the sequel trilogy,Baker was credited as consultant for The Force Awakens; however,Jimmy Vee also co-performed the character in some scenes. Vee later took over the role beginning in The Last Jedi.[2] R2-D2s sounds and vocal effects were created by Ben Burtt. R2-D2 was designed in artwork by Ralph McQuarrie,co-developed by John Stears and built by Tony Dyson. George Lucass creation of R2-D2 was influenced by Akira Kurosawas 1958 feature film The Hidden Fortress (USA release 1962),particularly Tahei and Matashichi,the two comic relief characters that serve as sidekicks to General Makabe. Lucas and artist Ralph McQuarrie also drew inspiration from the robots Huey,Dewey,and Louie from Douglas Trumbulls 1972 film Silent Running. The name derives from when Lucas was making one of his earlier films,American Graffiti. Sound editor Walter Murch states that he is responsible for the utterance which sparked the name for the droid. Murch asked for Reel 2,Dialog Track 2,in the abbreviated form \"R-2-D-2\". Lucas,who was in the room and had dozed off while working on the script for Star Wars,momentarily woke when he heard the request and,after asking for clarification,stated that it was a \"great name\" before going back to writing his script.[3][4] R2-D2 stands for Second Generation Robotic Droid Series-2,according to a Star Wars encyclopedia published after the release of the film Star Wars.[5]\n",
      "Tony Dyson,owner of the special effects studio The White Horse Toy Company,was commissioned to fabricate the design,making four units operated by remote control. Two were used by Baker,and two were stunt double models made for the scene where the droid was shot from the swamp onto the shore on Dagobah. In A New Hope,R2-D2 and C-3PO are both introduced on board the Tantive IV,along with Princess Leia of Alderaan,when they are fired upon by an Imperial Star Destroyer. Leia inserts into R2-D2 an information disc containing the plans for the Death Star battle station,and encodes a distress message on the droids holographic projector. The droids then escape in a pod that crashes on Tatooine near Obi-Wan Kenobis desert abode. R2-D2 and C-3PO are then abducted by Jawas and bought by Owen Lars,step-uncle of Luke Skywalker. While Luke cleans the sand out of R2-D2s gears,he discovers a fragment of Leias message,and removes the droids r\n"
     ]
    }
   ],
   "source": [
    "## Print an example to understand the data at hand\n",
    "print(data[0:3000])"
   ]
  },
  {
   "cell_type": "code",
   "execution_count": 9,
   "metadata": {},
   "outputs": [],
   "source": [
    "sentences = tokenize.sent_tokenize(data)"
   ]
  },
  {
   "cell_type": "code",
   "execution_count": 10,
   "metadata": {},
   "outputs": [
    {
     "data": {
      "text/plain": [
       "99"
      ]
     },
     "execution_count": 10,
     "metadata": {},
     "output_type": "execute_result"
    }
   ],
   "source": [
    "len(sentences)"
   ]
  },
  {
   "cell_type": "code",
   "execution_count": 11,
   "metadata": {},
   "outputs": [
    {
     "name": "stdout",
     "output_type": "stream",
     "text": [
      "Enter any question related to the article: When was R2-D2 inducted into the Robot Hall of Fame?\n"
     ]
    }
   ],
   "source": [
    "## Lets search for Questions based on Article for Answers\n",
    "question = input(\"Enter any question related to the article: \")"
   ]
  },
  {
   "cell_type": "markdown",
   "metadata": {},
   "source": [
    "## Finding Context"
   ]
  },
  {
   "cell_type": "code",
   "execution_count": 12,
   "metadata": {},
   "outputs": [
    {
     "data": {
      "application/vnd.jupyter.widget-view+json": {
       "model_id": "211832f17fd24b4fa724a4d1d80d1b79",
       "version_major": 2,
       "version_minor": 0
      },
      "text/plain": [
       "HBox(children=(IntProgress(value=0, max=99), HTML(value='')))"
      ]
     },
     "metadata": {},
     "output_type": "display_data"
    },
    {
     "name": "stdout",
     "output_type": "stream",
     "text": [
      "\n"
     ]
    }
   ],
   "source": [
    "## By searching through the article we can find where the context related to the Question is present\n",
    "\n",
    "scores = []\n",
    "index = []\n",
    "\n",
    "for i in tqdm(range(len(sentences))) :\n",
    "    score = fuzz.partial_ratio(question, sentences[i])\n",
    "    scores.append(score)\n",
    "    index.append(i)\n",
    "    \n",
    "dictionary_scores = dict(zip(index, scores))\n",
    "\n",
    "probable_answer_index = max(dictionary_scores.items(), key=operator.itemgetter(1))[0]\n",
    "score = dictionary_scores[probable_answer_index]"
   ]
  },
  {
   "cell_type": "code",
   "execution_count": 13,
   "metadata": {},
   "outputs": [],
   "source": [
    "context = []\n",
    "\n",
    "for i in range(probable_answer_index-2, probable_answer_index+2):\n",
    "    context.append(sentences[i])"
   ]
  },
  {
   "cell_type": "code",
   "execution_count": 14,
   "metadata": {},
   "outputs": [
    {
     "name": "stdout",
     "output_type": "stream",
     "text": [
      "['[32] Baker himself has said he probably only appears in footage caught while shooting the previous two movies.', '[33] For The Force Awakens,producer Kathleen Kennedy hired two fans,Lee Towarsey and Oliver Steeples,to build new R2-D2 robots for the film,after being impressed by their working replicas that were brought to Star Wars Celebration Europe in 2013.', '[34] R2-D2 was inducted into the Robot Hall of Fame in 2003.', 'The Smithsonian Institution included R2-D2 in its list of 101 Objects that Made America.']\n"
     ]
    }
   ],
   "source": [
    "print(context)"
   ]
  },
  {
   "cell_type": "code",
   "execution_count": 15,
   "metadata": {},
   "outputs": [],
   "source": [
    "## Lets use Spacy to find the Dependencies of each word in the sentence.\n",
    "## Using the dependencies we can extract the a) Root word, b) Link between the subject and the verb c) Link between verb and Objects\n",
    "\n",
    "imp_word = []\n",
    "\n",
    "nlp = spacy.load(\"en\")\n",
    "doc = nlp(question)\n",
    "\n",
    "for token in doc:\n",
    "    if token.dep_ == 'ROOT':\n",
    "        imp_word.append(token.text)\n",
    "    elif token.dep_ == 'obj' or (token.dep_ == 'dobj') or (token.dep_ == 'iobj') or (token.dep_ == 'pobj'):\n",
    "        imp_word.append(token.text)\n",
    "    elif (token.dep_ == 'subj') or (token.dep_ == 'nsubj') or (token.dep_ == 'nsubjpass') or (token.dep_ == 'csubj') or (token.dep_ == 'csubjpass') :\n",
    "        imp_word.append(token.text)\n",
    "        \n",
    "key_phrase = ' '.join(imp_word)"
   ]
  },
  {
   "cell_type": "code",
   "execution_count": 16,
   "metadata": {},
   "outputs": [
    {
     "data": {
      "text/plain": [
       "'inducted Hall Fame'"
      ]
     },
     "execution_count": 16,
     "metadata": {},
     "output_type": "execute_result"
    }
   ],
   "source": [
    "key_phrase"
   ]
  },
  {
   "cell_type": "code",
   "execution_count": 17,
   "metadata": {},
   "outputs": [
    {
     "name": "stdout",
     "output_type": "stream",
     "text": [
      "[34] R2-D2 was inducted into the Robot Hall of Fame in 2003.\n",
      "Score : 83\n"
     ]
    }
   ],
   "source": [
    "for sentence in context :\n",
    "    score_2 = fuzz.token_set_ratio(sentence, key_phrase)\n",
    "    \n",
    "    if score_2 >= 50:\n",
    "        print(sentence)\n",
    "        print(\"Score : {}\".format(score))"
   ]
  },
  {
   "cell_type": "markdown",
   "metadata": {},
   "source": [
    "## Test cases"
   ]
  },
  {
   "cell_type": "code",
   "execution_count": 18,
   "metadata": {},
   "outputs": [],
   "source": [
    "def find_answer (sentences, question):\n",
    "    \n",
    "    ## By searching through the article we can find where the context related to the Question is present\n",
    "    scores = []\n",
    "    index = []\n",
    "\n",
    "    for i in tqdm(range(len(sentences))) :\n",
    "        score = fuzz.partial_ratio(question, sentences[i])\n",
    "        scores.append(score)\n",
    "        index.append(i)\n",
    "\n",
    "    dictionary_scores = dict(zip(index, scores))\n",
    "\n",
    "    probable_answer_index = max(dictionary_scores.items(), key=operator.itemgetter(1))[0]\n",
    "    score = dictionary_scores[probable_answer_index]\n",
    "    \n",
    "    context = []\n",
    "    \n",
    "    for i in range(probable_answer_index-2, probable_answer_index+2):\n",
    "        context.append(sentences[i])\n",
    "    \n",
    "    imp_word = []\n",
    "    \n",
    "    nlp = spacy.load(\"en\")\n",
    "    doc = nlp(question)\n",
    "    \n",
    "    for token in doc:\n",
    "        if token.dep_ == 'ROOT':\n",
    "            imp_word.append(token.text)\n",
    "        elif token.dep_ == 'obj' or (token.dep_ == 'dobj') or (token.dep_ == 'iobj') or (token.dep_ == 'pobj'):\n",
    "            imp_word.append(token.text)\n",
    "        elif (token.dep_ == 'subj') or (token.dep_ == 'nsubj') or (token.dep_ == 'nsubjpass') or (token.dep_ == 'csubj') or (token.dep_ == 'csubjpass') :\n",
    "            imp_word.append(token.text)\n",
    "    \n",
    "    key_phrase = ' '.join(imp_word)\n",
    "    \n",
    "    \n",
    "    for sentence in context :\n",
    "        score_2 = fuzz.token_set_ratio(sentence, key_phrase)\n",
    "        \n",
    "        if score_2 >= 50:\n",
    "            print(sentence)\n",
    "            print(\"Score : {}\".format(score))"
   ]
  },
  {
   "cell_type": "markdown",
   "metadata": {},
   "source": [
    "## Case - 1"
   ]
  },
  {
   "cell_type": "code",
   "execution_count": 20,
   "metadata": {},
   "outputs": [
    {
     "name": "stdout",
     "output_type": "stream",
     "text": [
      "Enter any question related to the article: who gave R2-D2's sounds and vocal effects?\n"
     ]
    },
    {
     "data": {
      "application/vnd.jupyter.widget-view+json": {
       "model_id": "fd11298434f54242a13e2179961cb6b7",
       "version_major": 2,
       "version_minor": 0
      },
      "text/plain": [
       "HBox(children=(IntProgress(value=0, max=99), HTML(value='')))"
      ]
     },
     "metadata": {},
     "output_type": "display_data"
    },
    {
     "name": "stdout",
     "output_type": "stream",
     "text": [
      "\n",
      "[2] R2-D2s sounds and vocal effects were created by Ben Burtt.\n",
      "Score : 76\n"
     ]
    }
   ],
   "source": [
    "question = input(\"Enter any question related to the article: \")\n",
    "find_answer(sentences, question)"
   ]
  },
  {
   "cell_type": "markdown",
   "metadata": {},
   "source": [
    "## Case - 2"
   ]
  },
  {
   "cell_type": "code",
   "execution_count": 21,
   "metadata": {},
   "outputs": [
    {
     "name": "stdout",
     "output_type": "stream",
     "text": [
      "Enter any question related to the article: who was commissioned to fabricate the design of R2-D2?\n"
     ]
    },
    {
     "data": {
      "application/vnd.jupyter.widget-view+json": {
       "model_id": "8c30da895e72446db26d3b8981d8a0b9",
       "version_major": 2,
       "version_minor": 0
      },
      "text/plain": [
       "HBox(children=(IntProgress(value=0, max=99), HTML(value='')))"
      ]
     },
     "metadata": {},
     "output_type": "display_data"
    },
    {
     "name": "stdout",
     "output_type": "stream",
     "text": [
      "\n",
      "[5]\n",
      "Tony Dyson,owner of the special effects studio The White Horse Toy Company,was commissioned to fabricate the design,making four units operated by remote control.\n",
      "Score : 78\n"
     ]
    }
   ],
   "source": [
    "question = input(\"Enter any question related to the article: \")\n",
    "find_answer(sentences, question)"
   ]
  },
  {
   "cell_type": "markdown",
   "metadata": {},
   "source": [
    "## Case - 3"
   ]
  },
  {
   "cell_type": "code",
   "execution_count": 23,
   "metadata": {},
   "outputs": [
    {
     "name": "stdout",
     "output_type": "stream",
     "text": [
      "Enter any question related to the article: In Return of the Jedi what was the critical role of R2-D2?\n"
     ]
    },
    {
     "data": {
      "application/vnd.jupyter.widget-view+json": {
       "model_id": "a66d106ab59d41118810bd6331b704f4",
       "version_major": 2,
       "version_minor": 0
      },
      "text/plain": [
       "HBox(children=(IntProgress(value=0, max=99), HTML(value='')))"
      ]
     },
     "metadata": {},
     "output_type": "display_data"
    },
    {
     "name": "stdout",
     "output_type": "stream",
     "text": [
      "\n",
      "In Return of the Jedi,R2-D2 plays a critical role in rescuing Luke,Leia,and Han from Jabba the Hutt.\n",
      "Score : 71\n"
     ]
    }
   ],
   "source": [
    "question = input(\"Enter any question related to the article: \")\n",
    "find_answer(sentences, question)"
   ]
  },
  {
   "cell_type": "markdown",
   "metadata": {},
   "source": [
    "## Case - 4"
   ]
  },
  {
   "cell_type": "code",
   "execution_count": 24,
   "metadata": {},
   "outputs": [
    {
     "name": "stdout",
     "output_type": "stream",
     "text": [
      "Enter any question related to the article: Throughout the course of the films, who were R2-D2 friends?\n"
     ]
    },
    {
     "data": {
      "application/vnd.jupyter.widget-view+json": {
       "model_id": "41892b1acc85481b86991fe71b29bbf5",
       "version_major": 2,
       "version_minor": 0
      },
      "text/plain": [
       "HBox(children=(IntProgress(value=0, max=99), HTML(value='')))"
      ]
     },
     "metadata": {},
     "output_type": "display_data"
    },
    {
     "name": "stdout",
     "output_type": "stream",
     "text": [
      "\n",
      "Throughout the course of the films,R2 is a friend to C-3PO,Padmé Amidala,Anakin Skywalker,Leia Organa,Luke Skywalker,and Obi-Wan Kenobi in various points in the saga.\n",
      "Score : 75\n"
     ]
    }
   ],
   "source": [
    "question = input(\"Enter any question related to the article: \")\n",
    "find_answer(sentences, question)"
   ]
  },
  {
   "cell_type": "markdown",
   "metadata": {},
   "source": [
    "## Case - 5"
   ]
  },
  {
   "cell_type": "code",
   "execution_count": 25,
   "metadata": {},
   "outputs": [
    {
     "name": "stdout",
     "output_type": "stream",
     "text": [
      "Enter any question related to the article: Throughout the course of the films, How many friends di R2-D2 have in total?\n"
     ]
    },
    {
     "data": {
      "application/vnd.jupyter.widget-view+json": {
       "model_id": "7c7e0c7e7dc14963a011f14bf00054fe",
       "version_major": 2,
       "version_minor": 0
      },
      "text/plain": [
       "HBox(children=(IntProgress(value=0, max=99), HTML(value='')))"
      ]
     },
     "metadata": {},
     "output_type": "display_data"
    },
    {
     "name": "stdout",
     "output_type": "stream",
     "text": [
      "\n",
      "Throughout the course of the films,R2 is a friend to C-3PO,Padmé Amidala,Anakin Skywalker,Leia Organa,Luke Skywalker,and Obi-Wan Kenobi in various points in the saga.\n",
      "Score : 66\n"
     ]
    }
   ],
   "source": [
    "question = input(\"Enter any question related to the article: \")\n",
    "find_answer(sentences, question)"
   ]
  },
  {
   "cell_type": "markdown",
   "metadata": {},
   "source": [
    "### Note : This model is unable to do simple calculation like addition"
   ]
  }
 ],
 "metadata": {
  "kernelspec": {
   "display_name": "Python [conda env:py3k]",
   "language": "python",
   "name": "conda-env-py3k-py"
  },
  "language_info": {
   "codemirror_mode": {
    "name": "ipython",
    "version": 3
   },
   "file_extension": ".py",
   "mimetype": "text/x-python",
   "name": "python",
   "nbconvert_exporter": "python",
   "pygments_lexer": "ipython3",
   "version": "3.7.3"
  }
 },
 "nbformat": 4,
 "nbformat_minor": 2
}
