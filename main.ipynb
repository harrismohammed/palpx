{
 "cells": [
  {
   "cell_type": "markdown",
   "metadata": {},
   "source": [
    "# Palpx Task"
   ]
  },
  {
   "cell_type": "markdown",
   "metadata": {},
   "source": [
    "## Step 1 : Download Necessary Libraries"
   ]
  },
  {
   "cell_type": "code",
   "execution_count": 31,
   "metadata": {},
   "outputs": [
    {
     "name": "stdout",
     "output_type": "stream",
     "text": [
      "Requirement already satisfied: nltk in /anaconda2/envs/py3k/lib/python3.7/site-packages (3.4)\n",
      "Requirement already satisfied: six in /anaconda2/envs/py3k/lib/python3.7/site-packages (from nltk) (1.12.0)\n",
      "Requirement already satisfied: singledispatch in /anaconda2/envs/py3k/lib/python3.7/site-packages (from nltk) (3.4.0.3)\n"
     ]
    },
    {
     "name": "stderr",
     "output_type": "stream",
     "text": [
      "[nltk_data] Downloading package punkt to /Users/admin/nltk_data...\n",
      "[nltk_data]   Package punkt is already up-to-date!\n"
     ]
    },
    {
     "data": {
      "text/plain": [
       "True"
      ]
     },
     "execution_count": 31,
     "metadata": {},
     "output_type": "execute_result"
    }
   ],
   "source": [
    "## Run this cell to download nltk. \n",
    "## If this library exists on your pc, then the cell returns \"Requirement already satisfied\"\n",
    "!pip install nltk\n",
    "\n",
    "## Make sure you download punkt\n",
    "import nltk\n",
    "nltk.download('punkt')"
   ]
  },
  {
   "cell_type": "code",
   "execution_count": 29,
   "metadata": {},
   "outputs": [
    {
     "name": "stdout",
     "output_type": "stream",
     "text": [
      "Requirement already satisfied: beautifulsoup4 in /anaconda2/envs/py3k/lib/python3.7/site-packages (4.7.1)\r\n",
      "Requirement already satisfied: soupsieve>=1.2 in /anaconda2/envs/py3k/lib/python3.7/site-packages (from beautifulsoup4) (1.8)\r\n"
     ]
    }
   ],
   "source": [
    "## Run this cell to download BeautifulSoup. \n",
    "## If this library exists on your pc, then the cell returns \"Requirement already satisfied\"\n",
    "!pip install beautifulsoup4"
   ]
  },
  {
   "cell_type": "code",
   "execution_count": 32,
   "metadata": {},
   "outputs": [
    {
     "name": "stdout",
     "output_type": "stream",
     "text": [
      "Requirement already satisfied: fuzzywuzzy in /anaconda2/envs/py3k/lib/python3.7/site-packages (0.17.0)\r\n"
     ]
    }
   ],
   "source": [
    "## Run this cell to download Fuzzy Wuzzy. \n",
    "## If this library exists on your pc, then the cell returns \"Requirement already satisfied\"\n",
    "!pip install fuzzywuzzy"
   ]
  },
  {
   "cell_type": "code",
   "execution_count": 34,
   "metadata": {},
   "outputs": [
    {
     "name": "stdout",
     "output_type": "stream",
     "text": [
      "Requirement already satisfied: regex in /anaconda2/envs/py3k/lib/python3.7/site-packages (2019.6.8)\r\n"
     ]
    }
   ],
   "source": [
    "## Run this cell to download Regular Expressions. \n",
    "## If this library exists on your pc, then the cell returns \"Requirement already satisfied\"\n",
    "!pip install regex"
   ]
  },
  {
   "cell_type": "code",
   "execution_count": 35,
   "metadata": {},
   "outputs": [
    {
     "name": "stdout",
     "output_type": "stream",
     "text": [
      "Requirement already satisfied: tqdm in /anaconda2/envs/py3k/lib/python3.7/site-packages (4.31.1)\r\n"
     ]
    }
   ],
   "source": [
    "## Run this cell to download tqdm. \n",
    "## If this library exists on your pc, then the cell returns \"Requirement already satisfied\" \n",
    "!pip install tqdm"
   ]
  },
  {
   "cell_type": "code",
   "execution_count": 36,
   "metadata": {},
   "outputs": [
    {
     "name": "stdout",
     "output_type": "stream",
     "text": [
      "Requirement already up-to-date: spacy in /anaconda2/envs/py3k/lib/python3.7/site-packages (2.1.4)\n",
      "Requirement already satisfied, skipping upgrade: wasabi<1.1.0,>=0.2.0 in /anaconda2/envs/py3k/lib/python3.7/site-packages (from spacy) (0.2.2)\n",
      "Requirement already satisfied, skipping upgrade: thinc<7.1.0,>=7.0.2 in /anaconda2/envs/py3k/lib/python3.7/site-packages (from spacy) (7.0.4)\n",
      "Requirement already satisfied, skipping upgrade: cymem<2.1.0,>=2.0.2 in /anaconda2/envs/py3k/lib/python3.7/site-packages (from spacy) (2.0.2)\n",
      "Requirement already satisfied, skipping upgrade: numpy>=1.15.0 in /anaconda2/envs/py3k/lib/python3.7/site-packages (from spacy) (1.16.2)\n",
      "Requirement already satisfied, skipping upgrade: srsly<1.1.0,>=0.0.5 in /anaconda2/envs/py3k/lib/python3.7/site-packages (from spacy) (0.0.7)\n",
      "Requirement already satisfied, skipping upgrade: jsonschema<3.1.0,>=2.6.0 in /anaconda2/envs/py3k/lib/python3.7/site-packages (from spacy) (3.0.1)\n",
      "Requirement already satisfied, skipping upgrade: preshed<2.1.0,>=2.0.1 in /anaconda2/envs/py3k/lib/python3.7/site-packages (from spacy) (2.0.1)\n",
      "Requirement already satisfied, skipping upgrade: murmurhash<1.1.0,>=0.28.0 in /anaconda2/envs/py3k/lib/python3.7/site-packages (from spacy) (1.0.2)\n",
      "Requirement already satisfied, skipping upgrade: blis<0.3.0,>=0.2.2 in /anaconda2/envs/py3k/lib/python3.7/site-packages (from spacy) (0.2.4)\n",
      "Requirement already satisfied, skipping upgrade: requests<3.0.0,>=2.13.0 in /anaconda2/envs/py3k/lib/python3.7/site-packages (from spacy) (2.21.0)\n",
      "Requirement already satisfied, skipping upgrade: plac<1.0.0,>=0.9.6 in /anaconda2/envs/py3k/lib/python3.7/site-packages (from spacy) (0.9.6)\n",
      "Requirement already satisfied, skipping upgrade: tqdm<5.0.0,>=4.10.0 in /anaconda2/envs/py3k/lib/python3.7/site-packages (from thinc<7.1.0,>=7.0.2->spacy) (4.31.1)\n",
      "Requirement already satisfied, skipping upgrade: attrs>=17.4.0 in /anaconda2/envs/py3k/lib/python3.7/site-packages (from jsonschema<3.1.0,>=2.6.0->spacy) (19.1.0)\n",
      "Requirement already satisfied, skipping upgrade: pyrsistent>=0.14.0 in /anaconda2/envs/py3k/lib/python3.7/site-packages (from jsonschema<3.1.0,>=2.6.0->spacy) (0.14.11)\n",
      "Requirement already satisfied, skipping upgrade: setuptools in /anaconda2/envs/py3k/lib/python3.7/site-packages (from jsonschema<3.1.0,>=2.6.0->spacy) (40.8.0)\n",
      "Requirement already satisfied, skipping upgrade: six>=1.11.0 in /anaconda2/envs/py3k/lib/python3.7/site-packages (from jsonschema<3.1.0,>=2.6.0->spacy) (1.12.0)\n",
      "Requirement already satisfied, skipping upgrade: urllib3<1.25,>=1.21.1 in /anaconda2/envs/py3k/lib/python3.7/site-packages (from requests<3.0.0,>=2.13.0->spacy) (1.24.1)\n",
      "Requirement already satisfied, skipping upgrade: chardet<3.1.0,>=3.0.2 in /anaconda2/envs/py3k/lib/python3.7/site-packages (from requests<3.0.0,>=2.13.0->spacy) (3.0.4)\n",
      "Requirement already satisfied, skipping upgrade: certifi>=2017.4.17 in /anaconda2/envs/py3k/lib/python3.7/site-packages (from requests<3.0.0,>=2.13.0->spacy) (2019.3.9)\n",
      "Requirement already satisfied, skipping upgrade: idna<2.9,>=2.5 in /anaconda2/envs/py3k/lib/python3.7/site-packages (from requests<3.0.0,>=2.13.0->spacy) (2.8)\n"
     ]
    }
   ],
   "source": [
    "## Run this cell to download Spacy. \n",
    "## If this library exists on your pc, then the cell returns \"Requirement already satisfied\" \n",
    "!pip install -U spacy"
   ]
  },
  {
   "cell_type": "code",
   "execution_count": 37,
   "metadata": {},
   "outputs": [
    {
     "name": "stdout",
     "output_type": "stream",
     "text": [
      "Requirement already satisfied: en_core_web_sm==2.1.0 from https://github.com/explosion/spacy-models/releases/download/en_core_web_sm-2.1.0/en_core_web_sm-2.1.0.tar.gz#egg=en_core_web_sm==2.1.0 in /anaconda2/envs/py3k/lib/python3.7/site-packages (2.1.0)\n",
      "\u001b[38;5;2m✔ Download and installation successful\u001b[0m\n",
      "You can now load the model via spacy.load('en_core_web_sm')\n",
      "\u001b[38;5;2m✔ Linking successful\u001b[0m\n",
      "/anaconda2/envs/py3k/lib/python3.7/site-packages/en_core_web_sm -->\n",
      "/anaconda2/envs/py3k/lib/python3.7/site-packages/spacy/data/en\n",
      "You can now load the model via spacy.load('en')\n"
     ]
    }
   ],
   "source": [
    "## Run this cell to download Model for English on spacy. \n",
    "## If this package exists on your pc, then the cell returns \"Requirement already satisfied\"\n",
    "!python -m spacy download en"
   ]
  },
  {
   "cell_type": "markdown",
   "metadata": {},
   "source": [
    "### Import all the Libraries"
   ]
  },
  {
   "cell_type": "code",
   "execution_count": 1,
   "metadata": {},
   "outputs": [],
   "source": [
    "## Import all the necessary Libraries required to run this program\n",
    "import warnings\n",
    "warnings.filterwarnings(\"ignore\")\n",
    "\n",
    "import requests\n",
    "from bs4 import BeautifulSoup\n",
    "import re\n",
    "\n",
    "from nltk import tokenize\n",
    "\n",
    "from fuzzywuzzy import fuzz\n",
    "\n",
    "from tqdm import tqdm_notebook as tqdm\n",
    "\n",
    "import operator\n",
    "\n",
    "import spacy\n",
    "from spacy import displacy"
   ]
  },
  {
   "cell_type": "markdown",
   "metadata": {},
   "source": [
    "## Step 2 : Input the Article link"
   ]
  },
  {
   "cell_type": "code",
   "execution_count": 2,
   "metadata": {},
   "outputs": [
    {
     "name": "stdout",
     "output_type": "stream",
     "text": [
      "Enter from where you need to Extract the Article! : https://en.wikipedia.org/wiki/R2-D2\n"
     ]
    }
   ],
   "source": [
    "## The link for the Wikipedia page I webscraped - https://en.wikipedia.org/wiki/R2-D2 \n",
    "## page_url = \"https://en.wikipedia.org/wiki/R2-D2\"\n",
    "\n",
    "page_url = input(\"Enter from where you need to Extract the Article! : \")"
   ]
  },
  {
   "cell_type": "code",
   "execution_count": 3,
   "metadata": {},
   "outputs": [
    {
     "name": "stdout",
     "output_type": "stream",
     "text": [
      "200\n"
     ]
    }
   ],
   "source": [
    "## Print the HTTP status code. If it returns 200,then the request has succeeded.\n",
    "\n",
    "page = requests.get(page_url)\n",
    "print(page.status_code)\n"
   ]
  },
  {
   "cell_type": "code",
   "execution_count": 4,
   "metadata": {},
   "outputs": [],
   "source": [
    "## Let us extract all the Text Data - to understand better Refer README file\n",
    "soup = BeautifulSoup(page.text)\n",
    "text_file = soup.find_all('p')"
   ]
  },
  {
   "cell_type": "code",
   "execution_count": 5,
   "metadata": {
    "scrolled": false
   },
   "outputs": [
    {
     "data": {
      "text/plain": [
       "[<p class=\"mw-empty-elt\">\n",
       " </p>,\n",
       " <p><b>R2-D2</b> (<span class=\"nowrap\"><span class=\"IPA nopopups noexcerpt\"><a href=\"/wiki/Help:IPA/English\" title=\"Help:IPA/English\">/<span style=\"border-bottom:1px dotted\"><span title=\"/ˌ/: secondary stress follows\">ˌ</span><span title=\"/ɑːr/: 'ar' in 'far'\">ɑːr</span><span title=\"'t' in 'tie'\">t</span><span title=\"/uː/: 'oo' in 'goose'\">uː</span><span title=\"/ˈ/: primary stress follows\">ˈ</span><span title=\"'d' in 'dye'\">d</span><span title=\"/iː/: 'ee' in 'fleece'\">iː</span><span title=\"'t' in 'tie'\">t</span><span title=\"/uː/: 'oo' in 'goose'\">uː</span></span>/</a></span></span>), or <b>Artoo-Detoo</b>,<sup class=\"reference\" id=\"cite_ref-1\"><a href=\"#cite_note-1\">[1]</a></sup> is a fictional robot character in the <a href=\"/wiki/Star_Wars\" title=\"Star Wars\"><i>Star Wars</i> franchise</a> created by <a href=\"/wiki/George_Lucas\" title=\"George Lucas\">George Lucas</a>. A small <a class=\"mw-redirect\" href=\"/wiki/Astromech_droid\" title=\"Astromech droid\">astromech droid</a>, R2-D2 is a major character and appears in nine out of the ten <i>Star Wars</i> films to date. Throughout the course of the films, R2 is a friend to <a href=\"/wiki/C-3PO\" title=\"C-3PO\">C-3PO</a>, <a href=\"/wiki/Padm%C3%A9_Amidala\" title=\"Padmé Amidala\">Padmé Amidala</a>, <a href=\"/wiki/Darth_Vader\" title=\"Darth Vader\">Anakin Skywalker</a>, <a href=\"/wiki/Princess_Leia\" title=\"Princess Leia\">Leia Organa</a>, <a href=\"/wiki/Luke_Skywalker\" title=\"Luke Skywalker\">Luke Skywalker</a>, and <a href=\"/wiki/Obi-Wan_Kenobi\" title=\"Obi-Wan Kenobi\">Obi-Wan Kenobi</a> in various points in the saga.\n",
       " </p>,\n",
       " <p>English actor <a href=\"/wiki/Kenny_Baker_(English_actor)\" title=\"Kenny Baker (English actor)\">Kenny Baker</a> played R2-D2 in all three original <i>Star Wars</i> films, and received <a class=\"mw-redirect\" href=\"/wiki/Billing_(filmmaking)\" title=\"Billing (filmmaking)\">billing credit</a> for the character in the <a href=\"/wiki/Star_Wars_prequel_trilogy\" title=\"Star Wars prequel trilogy\">prequel trilogy</a>, where Baker's role was reduced, as R2-D2 was portrayed mainly by <a href=\"/wiki/Radio-controlled_model\" title=\"Radio-controlled model\">radio controlled props</a> and <a href=\"/wiki/Computer-generated_imagery\" title=\"Computer-generated imagery\">CGI</a> models. In the <a href=\"/wiki/Star_Wars_sequel_trilogy\" title=\"Star Wars sequel trilogy\">sequel trilogy</a>, Baker was credited as consultant for <i><a class=\"mw-redirect\" href=\"/wiki/The_Force_Awakens\" title=\"The Force Awakens\">The Force Awakens</a></i>; however, <a href=\"/wiki/Jimmy_Vee\" title=\"Jimmy Vee\">Jimmy Vee</a> also co-performed the character in some scenes. Vee later took over the role beginning in <i><a href=\"/wiki/Star_Wars:_The_Last_Jedi\" title=\"Star Wars: The Last Jedi\">The Last Jedi</a></i>.<sup class=\"reference\" id=\"cite_ref-2\"><a href=\"#cite_note-2\">[2]</a></sup> R2-D2's sounds and vocal effects were created by <a href=\"/wiki/Ben_Burtt\" title=\"Ben Burtt\">Ben Burtt</a>. R2-D2 was designed in artwork by <a href=\"/wiki/Ralph_McQuarrie\" title=\"Ralph McQuarrie\">Ralph McQuarrie</a>, co-developed by <a href=\"/wiki/John_Stears\" title=\"John Stears\">John Stears</a> and built by <a href=\"/wiki/Tony_Dyson\" title=\"Tony Dyson\">Tony Dyson</a>.\n",
       " </p>]"
      ]
     },
     "execution_count": 5,
     "metadata": {},
     "output_type": "execute_result"
    }
   ],
   "source": [
    "## Print an example to understand what we have got\n",
    "text_file[0:3]"
   ]
  },
  {
   "cell_type": "code",
   "execution_count": 48,
   "metadata": {},
   "outputs": [],
   "source": [
    "## Let us remove all the HTML Tags to obtain a much Clearer Text\n",
    "def striphtml(data):\n",
    "    cleanr = re.compile('<.*?>')\n",
    "    cleantext = re.sub(cleanr, '', str(data))\n",
    "    cleanr = re.compile(', ')\n",
    "    cleantext = re.sub(cleanr, ',', str(cleantext))\n",
    "    cleanr = re.compile('\\'')\n",
    "    cleantext = re.sub(cleanr, '', str(cleantext))\n",
    "    cleanr = re.compile('\\n,')\n",
    "    cleantext = re.sub(cleanr, ' ', str(cleantext))\n",
    "    \n",
    "    return cleantext"
   ]
  },
  {
   "cell_type": "code",
   "execution_count": 49,
   "metadata": {},
   "outputs": [],
   "source": [
    "data = striphtml(text_file)"
   ]
  },
  {
   "cell_type": "code",
   "execution_count": 50,
   "metadata": {
    "scrolled": false
   },
   "outputs": [
    {
     "name": "stdout",
     "output_type": "stream",
     "text": [
      "[ R2-D2 (/ˌɑːrtuːˈdiːtuː/),or Artoo-Detoo,[1] is a fictional robot character in the Star Wars franchise created by George Lucas. A small astromech droid,R2-D2 is a major character and appears in nine out of the ten Star Wars films to date. Throughout the course of the films,R2 is a friend to C-3PO,Padmé Amidala,Anakin Skywalker,Leia Organa,Luke Skywalker,and Obi-Wan Kenobi in various points in the saga. English actor Kenny Baker played R2-D2 in all three original Star Wars films,and received billing credit for the character in the prequel trilogy,where Bakers role was reduced,as R2-D2 was portrayed mainly by radio controlled props and CGI models. In the sequel trilogy,Baker was credited as consultant for The Force Awakens; however,Jimmy Vee also co-performed the character in some scenes. Vee later took over the role beginning in The Last Jedi.[2] R2-D2s sounds and vocal effects were created by Ben Burtt. R2-D2 was designed in artwork by Ralph McQuarrie,co-developed by John Stears and built by Tony Dyson. George Lucass creation of R2-D2 was influenced by Akira Kurosawas 1958 feature film The Hidden Fortress (USA release 1962),particularly Tahei and Matashichi,the two comic relief characters that serve as sidekicks to General Makabe. Lucas and artist Ralph McQuarrie also drew inspiration from the robots Huey,Dewey,and Louie from Douglas Trumbulls 1972 film Silent Running. The name derives from when Lucas was making one of his earlier films,American Graffiti. Sound editor Walter Murch states that he is responsible for the utterance which sparked the name for the droid. Murch asked for Reel 2,Dialog Track 2,in the abbreviated form \"R-2-D-2\". Lucas,who was in the room and had dozed off while working on the script for Star Wars,momentarily woke when he heard the request and,after asking for clarification,stated that it was a \"great name\" before going back to writing his script.[3][4] R2-D2 stands for Second Generation Robotic Droid Series-2,according to a Star Wars encyclopedia published after the release of the film Star Wars.[5]\n",
      "Tony Dyson,owner of the special effects studio The White Horse Toy Company,was commissioned to fabricate the design,making four units operated by remote control. Two were used by Baker,and two were stunt double models made for the scene where the droid was shot from the swamp onto the shore on Dagobah. In A New Hope,R2-D2 and C-3PO are both introduced on board the Tantive IV,along with Princess Leia of Alderaan,when they are fired upon by an Imperial Star Destroyer. Leia inserts into R2-D2 an information disc containing the plans for the Death Star battle station,and encodes a distress message on the droids holographic projector. The droids then escape in a pod that crashes on Tatooine near Obi-Wan Kenobis desert abode. R2-D2 and C-3PO are then abducted by Jawas and bought by Owen Lars,step-uncle of Luke Skywalker. While Luke cleans the sand out of R2-D2s gears,he discovers a fragment of Leias message,and removes the droids r\n"
     ]
    }
   ],
   "source": [
    "## Print an example to understand the data at hand\n",
    "print(data[0:3000])"
   ]
  },
  {
   "cell_type": "code",
   "execution_count": 9,
   "metadata": {},
   "outputs": [],
   "source": [
    "## This function sent_tokenize helps identify sentences from the data\n",
    "sentences = tokenize.sent_tokenize(data)"
   ]
  },
  {
   "cell_type": "code",
   "execution_count": 10,
   "metadata": {},
   "outputs": [
    {
     "data": {
      "text/plain": [
       "99"
      ]
     },
     "execution_count": 10,
     "metadata": {},
     "output_type": "execute_result"
    }
   ],
   "source": [
    "## Print the length, to understand the number of sentences contained in this particular article\n",
    "len(sentences)"
   ]
  },
  {
   "cell_type": "markdown",
   "metadata": {},
   "source": [
    "## Step 3 : Input Question to Obtain the Context"
   ]
  },
  {
   "cell_type": "code",
   "execution_count": 11,
   "metadata": {},
   "outputs": [
    {
     "name": "stdout",
     "output_type": "stream",
     "text": [
      "Enter any question related to the article: When was R2-D2 inducted into the Robot Hall of Fame?\n"
     ]
    }
   ],
   "source": [
    "## Set the question variable to obtain the Context.\n",
    "question = input(\"Enter any question related to the article: \")"
   ]
  },
  {
   "cell_type": "markdown",
   "metadata": {},
   "source": [
    "### Finding Context"
   ]
  },
  {
   "cell_type": "code",
   "execution_count": 12,
   "metadata": {},
   "outputs": [
    {
     "data": {
      "application/vnd.jupyter.widget-view+json": {
       "model_id": "211832f17fd24b4fa724a4d1d80d1b79",
       "version_major": 2,
       "version_minor": 0
      },
      "text/plain": [
       "HBox(children=(IntProgress(value=0, max=99), HTML(value='')))"
      ]
     },
     "metadata": {},
     "output_type": "display_data"
    },
    {
     "name": "stdout",
     "output_type": "stream",
     "text": [
      "\n"
     ]
    }
   ],
   "source": [
    "## By searching through the article we can find where the context related to the Question is present\n",
    "## TQDM prints the time taken to run this Loop. This visually aids to understand the time taken to run this cell.\n",
    "\n",
    "scores = []\n",
    "index = []\n",
    "\n",
    "for i in tqdm(range(len(sentences))) :\n",
    "    score = fuzz.partial_ratio(question, sentences[i])\n",
    "    scores.append(score)\n",
    "    index.append(i)\n",
    "    \n",
    "dictionary_scores = dict(zip(index, scores))\n",
    "\n",
    "probable_answer_index = max(dictionary_scores.items(), key=operator.itemgetter(1))[0]\n",
    "score = dictionary_scores[probable_answer_index]"
   ]
  },
  {
   "cell_type": "code",
   "execution_count": 13,
   "metadata": {},
   "outputs": [],
   "source": [
    "context = []\n",
    "\n",
    "for i in range(probable_answer_index-2, probable_answer_index+2):\n",
    "    context.append(sentences[i])"
   ]
  },
  {
   "cell_type": "code",
   "execution_count": 14,
   "metadata": {},
   "outputs": [
    {
     "name": "stdout",
     "output_type": "stream",
     "text": [
      "['[32] Baker himself has said he probably only appears in footage caught while shooting the previous two movies.', '[33] For The Force Awakens,producer Kathleen Kennedy hired two fans,Lee Towarsey and Oliver Steeples,to build new R2-D2 robots for the film,after being impressed by their working replicas that were brought to Star Wars Celebration Europe in 2013.', '[34] R2-D2 was inducted into the Robot Hall of Fame in 2003.', 'The Smithsonian Institution included R2-D2 in its list of 101 Objects that Made America.']\n"
     ]
    }
   ],
   "source": [
    "print(context)"
   ]
  },
  {
   "cell_type": "markdown",
   "metadata": {},
   "source": [
    "## Step 4 : Use the Context to obtain the possible Answer"
   ]
  },
  {
   "cell_type": "code",
   "execution_count": 15,
   "metadata": {},
   "outputs": [],
   "source": [
    "## Lets use Spacy to find the Dependencies of each word in the sentence.\n",
    "## Using the dependencies we can extract the a) Root word, b) Link between the subject and the verb c) Link between verb and Objects\n",
    "\n",
    "imp_word = []\n",
    "\n",
    "nlp = spacy.load(\"en\")\n",
    "doc = nlp(question)\n",
    "\n",
    "for token in doc:\n",
    "    if token.dep_ == 'ROOT':\n",
    "        imp_word.append(token.text)\n",
    "    elif token.dep_ == 'obj' or (token.dep_ == 'dobj') or (token.dep_ == 'iobj') or (token.dep_ == 'pobj'):\n",
    "        imp_word.append(token.text)\n",
    "    elif (token.dep_ == 'subj') or (token.dep_ == 'nsubj') or (token.dep_ == 'nsubjpass') or (token.dep_ == 'csubj') or (token.dep_ == 'csubjpass') :\n",
    "        imp_word.append(token.text)\n",
    "        \n",
    "key_phrase = ' '.join(imp_word)"
   ]
  },
  {
   "cell_type": "code",
   "execution_count": 16,
   "metadata": {},
   "outputs": [
    {
     "data": {
      "text/plain": [
       "'inducted Hall Fame'"
      ]
     },
     "execution_count": 16,
     "metadata": {},
     "output_type": "execute_result"
    }
   ],
   "source": [
    "## Print the key phrase.\n",
    "key_phrase"
   ]
  },
  {
   "cell_type": "code",
   "execution_count": 17,
   "metadata": {},
   "outputs": [
    {
     "name": "stdout",
     "output_type": "stream",
     "text": [
      "[34] R2-D2 was inducted into the Robot Hall of Fame in 2003.\n",
      "Score : 83\n"
     ]
    }
   ],
   "source": [
    "## Use the key phrase to obtain the answer from the context\n",
    "\n",
    "for sentence in context :\n",
    "    score_2 = fuzz.token_set_ratio(sentence, key_phrase)\n",
    "    \n",
    "    if score_2 >= 50:\n",
    "        print(sentence)\n",
    "        print(\"Score : {}\".format(score))"
   ]
  },
  {
   "cell_type": "markdown",
   "metadata": {},
   "source": [
    "## Step 5 : Testing "
   ]
  },
  {
   "cell_type": "markdown",
   "metadata": {},
   "source": [
    "To understand the performance, I have tested it by changing the question & also tried using the Logic to find possible answers from other Wikipedia Article.\n",
    "\n",
    "1. Question 1 :\n",
    "\n",
    "Question - Who was credited as consultant for The Force Awakens ?\n",
    "\n",
    "Answer - In the sequel trilogy,Baker was credited as consultant for The Force Awakens; however,Jimmy Vee also co-performed the character in some scenes.\n",
    "\n",
    "Score : 93\n",
    "\n",
    "2. Question 2 :\n",
    "\n",
    "Question - Who appears in nine out of the ten Star Wars films ?\n",
    "\n",
    "A small astromech droid,R2-D2 is a major character and appears in nine out of the ten Star Wars films to date.\n",
    "\n",
    "Score : 92\n",
    "\n",
    "Let's try it out with other Article from Wikipedia.\n",
    "I have used https://en.wikipedia.org/wiki/Elon_Musk\n",
    "\n",
    "3. Question 3 :\n",
    "\n",
    "Question - Who is Elon Musk ?\n",
    "\n",
    "[325] In December 2016,Robby in New Girl refers to saving a life,and when asked who,responds \"Do you know who Elon Musk is?\".\n",
    "\n",
    "Score : 78\n",
    "\n",
    "4. Question 4 :\n",
    "\n",
    "Question - Who founded SpaceX ?\n",
    "\n",
    "[14][15][16][17] In May 2002,Musk founded SpaceX,an aerospace manufacturer and space transport services company,of which he is CEO and lead designer.\n",
    "\n",
    "Score : 90\n",
    "\n",
    "5. Question 5 :\n",
    "\n",
    "Question - Where did Elon Musk attend University ?\n",
    "\n",
    "[43][44] At the age of 17,in 1989,Elon Musk moved to Canada to attend Queens University,avoiding mandatory service in the South African military.\n",
    "\n",
    "Score : 64\n",
    "\n",
    "He left in 1992 to study business and physics at the University of Pennsylvania,and graduated with an undergraduate degree in economics and stayed for a second bachelors degree in physics.\n",
    "\n",
    "Score : 64\n",
    "\n",
    "[45][46] After leaving Penn,Elon Musk headed to Stanford University in California to pursue a PhD in energy physics.\n",
    "\n",
    "Score : 64\n",
    "\n",
    "Well, this gives multiple answers with a same confidence score as its obvious that Elon Musk attended more than 1 university. A Clear question stating the name of the University should return a single sentence as the answer with a much better Score"
   ]
  },
  {
   "cell_type": "code",
   "execution_count": 39,
   "metadata": {},
   "outputs": [],
   "source": [
    "def find_answer (sentences, question):\n",
    "    \n",
    "    scores = []\n",
    "    index = []\n",
    "\n",
    "    for i in tqdm(range(len(sentences))) :\n",
    "        score = fuzz.partial_ratio(question, sentences[i])\n",
    "        scores.append(score)\n",
    "        index.append(i)\n",
    "\n",
    "    dictionary_scores = dict(zip(index, scores))\n",
    "\n",
    "    probable_answer_index = max(dictionary_scores.items(), key=operator.itemgetter(1))[0]\n",
    "    score = dictionary_scores[probable_answer_index]\n",
    "    \n",
    "    context = []\n",
    "    \n",
    "    for i in range(probable_answer_index-2, probable_answer_index+2):\n",
    "        context.append(sentences[i])\n",
    "    \n",
    "    imp_word = []\n",
    "    \n",
    "    nlp = spacy.load(\"en\")\n",
    "    doc = nlp(question)\n",
    "    \n",
    "    for token in doc:\n",
    "        if token.dep_ == 'ROOT':\n",
    "            imp_word.append(token.text)\n",
    "        elif token.dep_ == 'obj' or (token.dep_ == 'dobj') or (token.dep_ == 'iobj') or (token.dep_ == 'pobj'):\n",
    "            imp_word.append(token.text)\n",
    "        elif (token.dep_ == 'subj') or (token.dep_ == 'nsubj') or (token.dep_ == 'nsubjpass') or (token.dep_ == 'csubj') or (token.dep_ == 'csubjpass') :\n",
    "            imp_word.append(token.text)\n",
    "    \n",
    "    key_phrase = ' '.join(imp_word)\n",
    "    \n",
    "    \n",
    "    for sentence in context :\n",
    "        score_2 = fuzz.token_set_ratio(sentence, key_phrase)\n",
    "        \n",
    "        if score_2 >= 50:\n",
    "            print(sentence)\n",
    "            print(\"Score : {}\".format(score))\n",
    "            \n",
    "\n",
    "def striphtml(data):\n",
    "    cleanr = re.compile('<.*?>')\n",
    "    cleantext = re.sub(cleanr, '', str(data))\n",
    "    cleanr = re.compile(', ')\n",
    "    cleantext = re.sub(cleanr, ',', str(cleantext))\n",
    "    cleanr = re.compile('\\'')\n",
    "    cleantext = re.sub(cleanr, '', str(cleantext))\n",
    "    cleanr = re.compile('\\n,')\n",
    "    cleantext = re.sub(cleanr, ' ', str(cleantext))\n",
    "    \n",
    "    return cleantext            \n",
    "            \n",
    "def obtain_sentences(page_url):\n",
    "    page = requests.get(page_url)\n",
    "    \n",
    "    soup = BeautifulSoup(page.text)\n",
    "    text_file = soup.find_all('p')\n",
    "    \n",
    "    data = striphtml(text_file)\n",
    "    \n",
    "    sentences = tokenize.sent_tokenize(data)\n",
    "    \n",
    "    return sentences"
   ]
  },
  {
   "cell_type": "markdown",
   "metadata": {},
   "source": [
    "### Question 1 : Who was credited as consultant for The Force Awakens ?"
   ]
  },
  {
   "cell_type": "code",
   "execution_count": 40,
   "metadata": {},
   "outputs": [
    {
     "name": "stdout",
     "output_type": "stream",
     "text": [
      "Enter any question related to the article: Who was credited as consultant for The Force Awakens ?\n"
     ]
    },
    {
     "data": {
      "application/vnd.jupyter.widget-view+json": {
       "model_id": "879d6fd32b254edaa6830178f20d4b45",
       "version_major": 2,
       "version_minor": 0
      },
      "text/plain": [
       "HBox(children=(IntProgress(value=0, max=99), HTML(value='')))"
      ]
     },
     "metadata": {},
     "output_type": "display_data"
    },
    {
     "name": "stdout",
     "output_type": "stream",
     "text": [
      "\n",
      "In the sequel trilogy,Baker was credited as consultant for The Force Awakens; however,Jimmy Vee also co-performed the character in some scenes.\n",
      "Score : 93\n"
     ]
    }
   ],
   "source": [
    "question = input(\"Enter any question related to the article: \")\n",
    "find_answer(sentences, question)"
   ]
  },
  {
   "cell_type": "markdown",
   "metadata": {},
   "source": [
    "### Question 2 : Who appears in nine out of the ten Star Wars films ?"
   ]
  },
  {
   "cell_type": "code",
   "execution_count": 41,
   "metadata": {},
   "outputs": [
    {
     "name": "stdout",
     "output_type": "stream",
     "text": [
      "Enter any question related to the article: Who appears in nine out of the ten Star Wars films ?\n"
     ]
    },
    {
     "data": {
      "application/vnd.jupyter.widget-view+json": {
       "model_id": "fa4f2bc458094b2d86e4382960dbd718",
       "version_major": 2,
       "version_minor": 0
      },
      "text/plain": [
       "HBox(children=(IntProgress(value=0, max=99), HTML(value='')))"
      ]
     },
     "metadata": {},
     "output_type": "display_data"
    },
    {
     "name": "stdout",
     "output_type": "stream",
     "text": [
      "\n",
      "A small astromech droid,R2-D2 is a major character and appears in nine out of the ten Star Wars films to date.\n",
      "Score : 92\n"
     ]
    }
   ],
   "source": [
    "question = input(\"Enter any question related to the article: \")\n",
    "find_answer(sentences, question)"
   ]
  },
  {
   "cell_type": "markdown",
   "metadata": {},
   "source": [
    "### Question 3 : Who is Elon Musk ?"
   ]
  },
  {
   "cell_type": "code",
   "execution_count": 51,
   "metadata": {},
   "outputs": [
    {
     "name": "stdout",
     "output_type": "stream",
     "text": [
      "Enter the link of the page, from where you need to Extract the Article! : https://en.wikipedia.org/wiki/Elon_Musk\n"
     ]
    }
   ],
   "source": [
    "page_url = input(\"Enter the link of the page, from where you need to Extract the Article! : \")\n",
    "sentences = obtain_sentences(page_url)"
   ]
  },
  {
   "cell_type": "code",
   "execution_count": 52,
   "metadata": {},
   "outputs": [
    {
     "name": "stdout",
     "output_type": "stream",
     "text": [
      "Enter any question related to the article: Who is Elon Musk ?\n"
     ]
    },
    {
     "data": {
      "application/vnd.jupyter.widget-view+json": {
       "model_id": "d8ca641d09a34460bf8fbe573191a791",
       "version_major": 2,
       "version_minor": 0
      },
      "text/plain": [
       "HBox(children=(IntProgress(value=0, max=398), HTML(value='')))"
      ]
     },
     "metadata": {},
     "output_type": "display_data"
    },
    {
     "name": "stdout",
     "output_type": "stream",
     "text": [
      "\n",
      "[325] In December 2016,Robby in New Girl refers to saving a life,and when asked who,responds \"Do you know who Elon Musk is?\".\n",
      "Score : 78\n"
     ]
    }
   ],
   "source": [
    "question = input(\"Enter any question related to the article: \")\n",
    "find_answer(sentences, question)"
   ]
  },
  {
   "cell_type": "markdown",
   "metadata": {},
   "source": [
    "### Question 4 : Who founded SpaceX ? An aerospace manufacturer and space transport services company."
   ]
  },
  {
   "cell_type": "code",
   "execution_count": 55,
   "metadata": {},
   "outputs": [
    {
     "name": "stdout",
     "output_type": "stream",
     "text": [
      "Enter any question related to the article: Who founded SpaceX ? An aerospace manufacturer and space transport services company.\n"
     ]
    },
    {
     "data": {
      "application/vnd.jupyter.widget-view+json": {
       "model_id": "07f65c816e4f402ebb02e5cfc9de1b2d",
       "version_major": 2,
       "version_minor": 0
      },
      "text/plain": [
       "HBox(children=(IntProgress(value=0, max=398), HTML(value='')))"
      ]
     },
     "metadata": {},
     "output_type": "display_data"
    },
    {
     "name": "stdout",
     "output_type": "stream",
     "text": [
      "\n",
      "[14][15][16][17] In May 2002,Musk founded SpaceX,an aerospace manufacturer and space transport services company,of which he is CEO and lead designer.\n",
      "Score : 90\n"
     ]
    }
   ],
   "source": [
    "question = input(\"Enter any question related to the article: \")\n",
    "find_answer(sentences, question)"
   ]
  },
  {
   "cell_type": "markdown",
   "metadata": {},
   "source": [
    "### Question 5 : Where did Elon Musk attend University ?"
   ]
  },
  {
   "cell_type": "code",
   "execution_count": 56,
   "metadata": {},
   "outputs": [
    {
     "name": "stdout",
     "output_type": "stream",
     "text": [
      "Enter any question related to the article: Where did Elon Musk attend University ?\n"
     ]
    },
    {
     "data": {
      "application/vnd.jupyter.widget-view+json": {
       "model_id": "fd2892d925e2406e9ac014fd5b165906",
       "version_major": 2,
       "version_minor": 0
      },
      "text/plain": [
       "HBox(children=(IntProgress(value=0, max=398), HTML(value='')))"
      ]
     },
     "metadata": {},
     "output_type": "display_data"
    },
    {
     "name": "stdout",
     "output_type": "stream",
     "text": [
      "\n",
      "[43][44] At the age of 17,in 1989,Elon Musk moved to Canada to attend Queens University,avoiding mandatory service in the South African military.\n",
      "Score : 64\n",
      "He left in 1992 to study business and physics at the University of Pennsylvania,and graduated with an undergraduate degree in economics and stayed for a second bachelors degree in physics.\n",
      "Score : 64\n",
      "[45][46] After leaving Penn,Elon Musk headed to Stanford University in California to pursue a PhD in energy physics.\n",
      "Score : 64\n"
     ]
    }
   ],
   "source": [
    "question = input(\"Enter any question related to the article: \")\n",
    "find_answer(sentences, question)"
   ]
  }
 ],
 "metadata": {
  "kernelspec": {
   "display_name": "Python [conda env:py3k]",
   "language": "python",
   "name": "conda-env-py3k-py"
  },
  "language_info": {
   "codemirror_mode": {
    "name": "ipython",
    "version": 3
   },
   "file_extension": ".py",
   "mimetype": "text/x-python",
   "name": "python",
   "nbconvert_exporter": "python",
   "pygments_lexer": "ipython3",
   "version": "3.7.3"
  }
 },
 "nbformat": 4,
 "nbformat_minor": 2
}
